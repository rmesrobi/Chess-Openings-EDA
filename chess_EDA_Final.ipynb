{
 "cells": [
  {
   "cell_type": "code",
   "execution_count": 1,
   "metadata": {},
   "outputs": [],
   "source": [
    "import pandas as pd\n",
    "import numpy as np\n",
    "import matplotlib.pyplot as plt\n",
    "import scipy.stats as stats\n",
    "import seaborn as sns\n",
    "from datetime import date\n",
    "import time\n",
    "from math import ceil"
   ]
  },
  {
   "cell_type": "code",
   "execution_count": 2,
   "metadata": {},
   "outputs": [],
   "source": [
    "#read the csv into a pandas dataframe\n",
    "df = pd.read_csv('/Users/raffi/Desktop/galvanize/capstone_1/data/games.csv', delimiter = ',')"
   ]
  },
  {
   "cell_type": "code",
   "execution_count": 4,
   "metadata": {},
   "outputs": [],
   "source": [
    "#dropping duplicated ids in dataframe\n",
    "df.drop_duplicates(subset = ['id'], inplace = True)"
   ]
  },
  {
   "cell_type": "code",
   "execution_count": 5,
   "metadata": {},
   "outputs": [],
   "source": [
    "#update moves column from string to list for future analysis\n",
    "df.moves = df.moves.apply(lambda x: x.split(' '))"
   ]
  },
  {
   "cell_type": "code",
   "execution_count": 6,
   "metadata": {},
   "outputs": [],
   "source": [
    "#categorize rating scale - 1517 below 1200, 12668 between 1400 - 2000, 1716 above 2000\n",
    "#https://en.wikipedia.org/wiki/Chess_rating_system\n",
    "#https://en.wikipedia.org/wiki/Elo_rating_system\n",
    "#beginner < 1400 : 4729\n",
    "#novice 1200 - 1999 : 12668\n",
    "#expert 2000 - 2200 : 1169\n",
    "#master > 2200 : 547\n",
    "\n",
    "#df[(df['white_rating'] >= 2000) & (df['white_rating'] < 2200)].count()\n",
    "#df[df['white_rating'] >= 2200].count()\n",
    "#df[df['white_rating'] < 1400].count()\n",
    "\n",
    "#categorize rating scales\n",
    "def rating_cat_value(val):\n",
    "    if val < 1400:\n",
    "        return 'Beginner'\n",
    "    elif val < 2000:\n",
    "        return 'Novice'\n",
    "    elif val < 2200:\n",
    "        return 'Expert'\n",
    "    elif val >= 2200:\n",
    "        return 'Master'\n",
    "    \n",
    "def rating_cat_code(val):\n",
    "    if val < 1400:\n",
    "        return 1\n",
    "    elif val < 2000:\n",
    "        return 2\n",
    "    elif val < 2200:\n",
    "        return 3\n",
    "    elif val >= 2200:\n",
    "        return 4\n",
    "\n",
    "df['white_rating_value'] = df['white_rating'].apply(rating_cat_value)\n",
    "df['black_rating_value'] = df['black_rating'].apply(rating_cat_value)\n",
    "df['white_rating_code'] = df['white_rating'].apply(rating_cat_code)\n",
    "df['black_rating_code'] = df['black_rating'].apply(rating_cat_code)"
   ]
  },
  {
   "cell_type": "code",
   "execution_count": 7,
   "metadata": {},
   "outputs": [],
   "source": [
    "#creating new column for main opening line - used to filter through variations\n",
    "def opening_strip(opening):\n",
    "    if ':' in opening:\n",
    "        opening = opening.split(':')[0]\n",
    "    while '|' in opening:\n",
    "        opening = opening.split('|')[0]\n",
    "    if '#' in opening:\n",
    "        opening = opening.split('#')[0]\n",
    "    if 'Accepted' in opening:\n",
    "        opening = opening.replace('Accepted', '')\n",
    "    if 'Declined' in opening:\n",
    "        opening = opening.replace('Declined', '')\n",
    "    if 'Refused' in opening:\n",
    "        opening = opening.replace('Refused', '')\n",
    "    return opening.strip()\n",
    "\n",
    "df['main_opening'] = df['opening_name'].apply(opening_strip)"
   ]
  },
  {
   "cell_type": "code",
   "execution_count": 8,
   "metadata": {},
   "outputs": [],
   "source": [
    "#creating two numerical columns for white win True / False and black win True / False\n",
    "def white_winner(winner):\n",
    "    if winner == 'white':\n",
    "        return 1\n",
    "    else:\n",
    "        return 0\n",
    "\n",
    "def black_winner(winner):\n",
    "    if winner == 'black':\n",
    "        return 1\n",
    "    else:\n",
    "        return 0 \n",
    "\n",
    "def no_winner(winner):\n",
    "    if winner == 'draw':\n",
    "        return 1\n",
    "    else:\n",
    "        return 0 \n",
    "    \n",
    "df['white_winner'] = df['winner'].apply(white_winner)\n",
    "df['black_winner'] = df['winner'].apply(black_winner)\n",
    "df['no_winner'] = df['winner'].apply(no_winner)"
   ]
  },
  {
   "cell_type": "code",
   "execution_count": 9,
   "metadata": {},
   "outputs": [],
   "source": [
    "#adding new column of data - date\n",
    "date = pd.to_datetime(df['created_at'], errors = 'ignore', unit = 'ms')\n",
    "df['date'] = pd.DatetimeIndex(date).date"
   ]
  },
  {
   "cell_type": "code",
   "execution_count": null,
   "metadata": {},
   "outputs": [],
   "source": []
  }
 ],
 "metadata": {
  "kernelspec": {
   "display_name": "Python 3",
   "language": "python",
   "name": "python3"
  },
  "language_info": {
   "codemirror_mode": {
    "name": "ipython",
    "version": 3
   },
   "file_extension": ".py",
   "mimetype": "text/x-python",
   "name": "python",
   "nbconvert_exporter": "python",
   "pygments_lexer": "ipython3",
   "version": "3.7.6"
  }
 },
 "nbformat": 4,
 "nbformat_minor": 4
}
