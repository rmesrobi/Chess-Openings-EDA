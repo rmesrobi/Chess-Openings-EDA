{
 "cells": [
  {
   "cell_type": "code",
   "execution_count": 1,
   "metadata": {},
   "outputs": [],
   "source": [
    "import pandas as pd\n",
    "import numpy as np\n",
    "#from abc import ABC, abstractmethod\n",
    "import matplotlib.pyplot as plt\n",
    "import scipy.stats as stats\n",
    "import seaborn as sns\n",
    "plt.style.use('ggplot')"
   ]
  },
  {
   "cell_type": "code",
   "execution_count": 2,
   "metadata": {},
   "outputs": [],
   "source": [
    "#read the csv into a pandas dataframe\n",
    "df = pd.read_csv('/Users/raffi/Desktop/galvanize/capstone_1/data/games.csv', delimiter = ',')"
   ]
  },
  {
   "cell_type": "code",
   "execution_count": 6,
   "metadata": {},
   "outputs": [
    {
     "name": "stdout",
     "output_type": "stream",
     "text": [
      "<class 'pandas.core.frame.DataFrame'>\n",
      "RangeIndex: 20058 entries, 0 to 20057\n",
      "Data columns (total 16 columns):\n",
      " #   Column          Non-Null Count  Dtype  \n",
      "---  ------          --------------  -----  \n",
      " 0   id              20058 non-null  object \n",
      " 1   rated           20058 non-null  bool   \n",
      " 2   created_at      20058 non-null  float64\n",
      " 3   last_move_at    20058 non-null  float64\n",
      " 4   turns           20058 non-null  int64  \n",
      " 5   victory_status  20058 non-null  object \n",
      " 6   winner          20058 non-null  object \n",
      " 7   increment_code  20058 non-null  object \n",
      " 8   white_id        20058 non-null  object \n",
      " 9   white_rating    20058 non-null  int64  \n",
      " 10  black_id        20058 non-null  object \n",
      " 11  black_rating    20058 non-null  int64  \n",
      " 12  moves           20058 non-null  object \n",
      " 13  opening_eco     20058 non-null  object \n",
      " 14  opening_name    20058 non-null  object \n",
      " 15  opening_ply     20058 non-null  int64  \n",
      "dtypes: bool(1), float64(2), int64(4), object(9)\n",
      "memory usage: 2.3+ MB\n"
     ]
    }
   ],
   "source": [
    "df.info()"
   ]
  },
  {
   "cell_type": "code",
   "execution_count": 7,
   "metadata": {},
   "outputs": [
    {
     "data": {
      "text/plain": [
       "(19113,)"
      ]
     },
     "execution_count": 7,
     "metadata": {},
     "output_type": "execute_result"
    }
   ],
   "source": [
    "df['id'].unique().shape"
   ]
  },
  {
   "cell_type": "code",
   "execution_count": 8,
   "metadata": {},
   "outputs": [
    {
     "name": "stdout",
     "output_type": "stream",
     "text": [
      "<class 'pandas.core.frame.DataFrame'>\n",
      "Int64Index: 19113 entries, 0 to 20057\n",
      "Data columns (total 16 columns):\n",
      " #   Column          Non-Null Count  Dtype  \n",
      "---  ------          --------------  -----  \n",
      " 0   id              19113 non-null  object \n",
      " 1   rated           19113 non-null  bool   \n",
      " 2   created_at      19113 non-null  float64\n",
      " 3   last_move_at    19113 non-null  float64\n",
      " 4   turns           19113 non-null  int64  \n",
      " 5   victory_status  19113 non-null  object \n",
      " 6   winner          19113 non-null  object \n",
      " 7   increment_code  19113 non-null  object \n",
      " 8   white_id        19113 non-null  object \n",
      " 9   white_rating    19113 non-null  int64  \n",
      " 10  black_id        19113 non-null  object \n",
      " 11  black_rating    19113 non-null  int64  \n",
      " 12  moves           19113 non-null  object \n",
      " 13  opening_eco     19113 non-null  object \n",
      " 14  opening_name    19113 non-null  object \n",
      " 15  opening_ply     19113 non-null  int64  \n",
      "dtypes: bool(1), float64(2), int64(4), object(9)\n",
      "memory usage: 2.4+ MB\n"
     ]
    }
   ],
   "source": [
    "#dropping duplicated ids in dataframe\n",
    "df.drop_duplicates(subset = ['id'], inplace = True)\n",
    "df.info()"
   ]
  },
  {
   "cell_type": "code",
   "execution_count": 9,
   "metadata": {},
   "outputs": [],
   "source": [
    "#update moves column from string to list for future analysis\n",
    "df.moves = df.moves.apply(lambda x: x.split(' '))"
   ]
  },
  {
   "cell_type": "code",
   "execution_count": 20,
   "metadata": {},
   "outputs": [
    {
     "data": {
      "text/plain": [
       "id                15880\n",
       "rated             15880\n",
       "created_at        15880\n",
       "last_move_at      15880\n",
       "turns             15880\n",
       "victory_status    15880\n",
       "winner            15880\n",
       "increment_code    15880\n",
       "white_id          15880\n",
       "white_rating      15880\n",
       "black_id          15880\n",
       "black_rating      15880\n",
       "moves             15880\n",
       "opening_eco       15880\n",
       "opening_name      15880\n",
       "opening_ply       15880\n",
       "dtype: int64"
      ]
     },
     "execution_count": 20,
     "metadata": {},
     "output_type": "execute_result"
    }
   ],
   "source": [
    "#categorize rating scale - 1517 below 1200, 12668 between 1400 - 2000, 1716 above 2000\n",
    "#beginner < 1200 : 1517\n",
    "#novice 1200 - 1999 : 15880\n",
    "#expert 2000 - 2200 : \n",
    "\n",
    "df[(df['white_rating'] >= 1200) & (df['white_rating'] < 2000)].count()\n",
    "#df[df['white_rating'] < 1200].count()"
   ]
  },
  {
   "cell_type": "code",
   "execution_count": null,
   "metadata": {},
   "outputs": [],
   "source": []
  },
  {
   "cell_type": "code",
   "execution_count": 38,
   "metadata": {},
   "outputs": [
    {
     "data": {
      "text/plain": [
       "13"
      ]
     },
     "execution_count": 38,
     "metadata": {},
     "output_type": "execute_result"
    }
   ],
   "source": [
    "#1 arg n and returns the nth fib number\n",
    "#seq each n is sum of (n-1 + n-2)\n",
    "n = 5\n",
    "\n",
    "def fib(n):\n",
    "    lst = [0, 1]\n",
    "#    sum_ = 0\n",
    "    for _ in range(2, n):\n",
    "        sum_ = lst[-1] + lst[-2]\n",
    "        lst.append(sum_)\n",
    "    return lst[-1]\n",
    "\n",
    "fib(8)"
   ]
  },
  {
   "cell_type": "code",
   "execution_count": null,
   "metadata": {},
   "outputs": [],
   "source": [
    "0, 1, 1, 2, 3, 5, 8, 13"
   ]
  },
  {
   "cell_type": "code",
   "execution_count": 41,
   "metadata": {},
   "outputs": [
    {
     "data": {
      "text/plain": [
       "0.6180339887498949"
      ]
     },
     "execution_count": 41,
     "metadata": {},
     "output_type": "execute_result"
    }
   ],
   "source": [
    "def fib2(n, a, b):\n",
    "    lst = [a, b]\n",
    "    for _ in range(2, n):\n",
    "        sum_ = lst[-1] + lst[-2]\n",
    "        lst.append(sum_)\n",
    "    return lst[-1]\n",
    "    \n",
    "x = fib2(1000, 8, -2) / fib2(1001, 8, -2)\n",
    "x"
   ]
  },
  {
   "cell_type": "code",
   "execution_count": 42,
   "metadata": {},
   "outputs": [
    {
     "data": {
      "text/plain": [
       "0.6180339887498949"
      ]
     },
     "execution_count": 42,
     "metadata": {},
     "output_type": "execute_result"
    }
   ],
   "source": [
    "y = fib(10000) / fib(10001)\n",
    "y"
   ]
  },
  {
   "cell_type": "code",
   "execution_count": 56,
   "metadata": {},
   "outputs": [
    {
     "data": {
      "text/plain": [
       "[('at', 'cat'), ('at', 'bat'), ('a', 'at'), ('a', 'cat'), ('a', 'bat')]"
      ]
     },
     "execution_count": 56,
     "metadata": {},
     "output_type": "execute_result"
    }
   ],
   "source": [
    "#substrings\n",
    "lst = ['at', 'cat', 'bat', 'a']\n",
    "sub = []\n",
    "#tuple - anytime word appears in another word (at, cat) (at, bat) (a, at) etc\n",
    "\n",
    "def substrings(lst):\n",
    "    for word1 in lst:\n",
    "        for word2 in lst:\n",
    "            if word1 in word2 and word1 != word2:\n",
    "                sub.append((word1, word2))\n",
    "    return sub\n",
    "\n",
    "substrings(lst)"
   ]
  },
  {
   "cell_type": "code",
   "execution_count": 57,
   "metadata": {},
   "outputs": [
    {
     "data": {
      "text/plain": [
       "[[('at', 'cat'), ('at', 'bat'), ('a', 'at'), ('a', 'cat'), ('a', 'bat')]]"
      ]
     },
     "execution_count": 57,
     "metadata": {},
     "output_type": "execute_result"
    }
   ],
   "source": [
    "def substrings(input):\n",
    "    return [[(a, b) for a in input for b in input if (a in b) and (a!=b)]]\n",
    "\n",
    "substrings(lst)"
   ]
  },
  {
   "cell_type": "code",
   "execution_count": null,
   "metadata": {},
   "outputs": [],
   "source": [
    "for i in input:\n",
    "    i"
   ]
  },
  {
   "cell_type": "code",
   "execution_count": null,
   "metadata": {},
   "outputs": [],
   "source": []
  },
  {
   "cell_type": "code",
   "execution_count": null,
   "metadata": {},
   "outputs": [],
   "source": []
  }
 ],
 "metadata": {
  "kernelspec": {
   "display_name": "Python 3",
   "language": "python",
   "name": "python3"
  },
  "language_info": {
   "codemirror_mode": {
    "name": "ipython",
    "version": 3
   },
   "file_extension": ".py",
   "mimetype": "text/x-python",
   "name": "python",
   "nbconvert_exporter": "python",
   "pygments_lexer": "ipython3",
   "version": "3.7.6"
  }
 },
 "nbformat": 4,
 "nbformat_minor": 4
}
